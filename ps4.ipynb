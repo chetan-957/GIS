{
  "cells": [
    {
      "cell_type": "markdown",
      "metadata": {
        "id": "view-in-github",
        "colab_type": "text"
      },
      "source": [
        "<a href=\"https://colab.research.google.com/github/chetan-957/GIS/blob/main/ps4.ipynb\" target=\"_parent\"><img src=\"https://colab.research.google.com/assets/colab-badge.svg\" alt=\"Open In Colab\"/></a>"
      ]
    },
    {
      "cell_type": "markdown",
      "metadata": {
        "id": "zP1HQjdL6L_R"
      },
      "source": [
        "# **Analysis of Electric Vehicles' Impact on PM2.5 Levels in California**\n",
        "- **Study Focus**:\n",
        "  - Growth of electric vehicle (EV) charging stations and electric vehicle adoption in California counties.\n",
        "  - Shape file Extracted from Website: https://www.geodata.gov/\n",
        "  - Analyzing the correlation between EV growth, population increases, and the total number of vehicles in each county.\n",
        "  - Understanding the relationship between electric vehicle adoption, population, vehicle population, and the availability of charging infrastructure across different regions in the state.\n",
        "  - Website: https://www.epa.gov/aqs\n",
        "  -Data Available: Environmental and air quality data. Shapefiles for air quality monitoring stations can be found here, including PM2.5 measurements.\n",
        "  -Website: https://www.arb.ca.gov/\n",
        "  \n",
        "  - *Data* Available: Air quality monitoring data, including geographic datasets on air quality and emissions. Some shapefiles related to California air quality monitoring may be available.\n",
        "- **Objective**:\n",
        "  - Predict and anticipate future growth of electric vehicles based on current trends.\n",
        "\n",
        "- **PM2.5 Analysis**:\n",
        "  - Evaluating how the rise in electric vehicles impacts PM2.5 (particulate matter) levels in the air over time.\n",
        "  - Comparing areas with high EV adoption and charging infrastructure to those with lower adoption to assess reductions in air pollution.\n",
        "  - Investigating the potential for electric vehicles to improve air quality and public health by lowering PM2.5 concentrations in California.\n",
        "<br>\n",
        "<br>\n",
        "<br>\n",
        "<br>\n",
        "<br>\n",
        "Done by Sai Srija Ganapuram and Injavarapu Chetan Sai Abhishek"
      ]
    },
    {
      "cell_type": "code",
      "execution_count": null,
      "metadata": {
        "id": "2izYJKFT0fCI"
      },
      "outputs": [],
      "source": [
        "%%capture\n",
        "!pip install geopandas==1.0.1\n",
        "!pip install mapclassify\n",
        "!pip install reverse_geocoder\n",
        "!pip install contextily\n",
        "!pip install ipywidgets\n",
        "!pip install ipyleaflet\n",
        "!pip install folium geopandas\n",
        "!pip install folium branca"
      ]
    },
    {
      "cell_type": "code",
      "execution_count": null,
      "metadata": {
        "id": "DgFAVBYE6g-n"
      },
      "outputs": [],
      "source": [
        "# All Imports\n",
        "import os, zipfile #basics\n",
        "import pandas as pd #data management\n",
        "import matplotlib.pyplot as plt #vis\n",
        "import csv #to read csv files\n",
        "from shapely.geometry import Point\n",
        "import reverse_geocoder as rg\n",
        "import numpy as np\n",
        "import seaborn as sns\n",
        "import folium\n",
        "from folium.plugins import MarkerCluster, TimestampedGeoJson, HeatMap\n",
        "from folium import IFrame\n",
        "from datetime import datetime\n",
        "from IPython.display import display, IFrame\n",
        "from IPython.display import Image,HTML\n",
        "\n",
        "import geopandas as gpd #gis/maps: a sister of pandas; does the job;\n",
        "\n",
        "import mapclassify #need for thematic map classification\n",
        "import ipywidgets as widgets\n",
        "from ipyleaflet import Map, basemap_to_tiles, GeoJSON\n",
        "from ipywidgets import interact\n",
        "from shapely.geometry import Point\n",
        "\n",
        "#will display all output not just last command\n",
        "from IPython.core.interactiveshell import InteractiveShell\n",
        "InteractiveShell.ast_node_interactivity = \"all\"\n",
        "\n",
        "from google.colab import files #to download from colab onto hd\n",
        "\n",
        "from google.colab import data_table\n",
        "data_table.enable_dataframe_formatter()\n",
        "import matplotlib.colors as mcolors\n",
        "from sklearn.preprocessing import KBinsDiscretizer\n",
        "import contextily as ctx"
      ]
    },
    {
      "cell_type": "code",
      "execution_count": null,
      "metadata": {
        "id": "5RBDWbaE1Ch8"
      },
      "outputs": [],
      "source": [
        "gpd.__version__"
      ]
    },
    {
      "cell_type": "code",
      "execution_count": null,
      "metadata": {
        "id": "SpKh4SZl6l4h"
      },
      "outputs": [],
      "source": [
        "! wget -q -O ca_counties.zip https://github.com/sg2083/GIS_repo/raw/main/ca_counties.zip\n",
        "zip_ref = zipfile.ZipFile('ca_counties.zip', 'r')\n",
        "zip_ref.extractall('California_Shape_Files') # Extract all files to a specific directory\n",
        "\n",
        "CAl0=gpd.read_file('California_Shape_Files/CA_Counties.shp') #load the shapefile with gpd as tlC\n",
        "zip_ref.close() # Close the zip file after reading the shapefile\n",
        "CAl0.plot(color='gold', edgecolor='black') # Change color to lightgreen, edgecolor to black\n",
        "plt.show()\n"
      ]
    },
    {
      "cell_type": "code",
      "execution_count": null,
      "metadata": {
        "id": "JDzEcd9g6rWq"
      },
      "outputs": [],
      "source": [
        "# Checking for the data types and checking the values of the data\n",
        "CAl0.dtypes\n",
        "CAl0[CAl0.columns.difference(['geometry'])].head(2)\n",
        "\n",
        "# Selecting only Few Variables for the Table\n",
        "CAl=CAl0[['NAME','NAMELSAD','Shape_Area','geometry']]"
      ]
    },
    {
      "cell_type": "markdown",
      "metadata": {
        "id": "ThMutJDmGkmn"
      },
      "source": [
        "### **Exploring and Manipulating Population Data Of California**\n",
        "taking a text file of California's population data and manipulating it to fit the structure of a pre-selected table. The goal is to ***clean, format, and align the data*** for further analysis.\n",
        "Then we'll plot the latest data on the Shape File of California."
      ]
    },
    {
      "cell_type": "code",
      "execution_count": null,
      "metadata": {
        "id": "l9UZym-Xkme4"
      },
      "outputs": [],
      "source": [
        "#Data cleaning and merging for plotting\n",
        "# Define the input file path to get the population value\n",
        "! wget -q -O population_data.txt https://github.com/sg2083/GIS_repo/raw/main/population_data.txt\n",
        "input_file = 'population_data.txt'\n",
        "\n",
        "# Read the CSV data from the text file\n",
        "data = []\n",
        "with open(input_file, 'r') as txt_file:\n",
        "    csv_reader = csv.reader(txt_file)\n",
        "    headers = next(csv_reader)  # Skip the header\n",
        "    for row in csv_reader:\n",
        "        data.append(row)\n",
        "\n",
        "# Convert the data into a DataFrame\n",
        "df = pd.DataFrame(data, columns=['Year', 'Period', 'Area', 'Population Source', 'Population'])\n",
        "\n",
        "# Convert Population to numeric\n",
        "df['Population'] = pd.to_numeric(df['Population'].str.replace(\",\", \"\"))\n",
        "\n",
        "# Population_of_california  the DataFrame to restructure it\n",
        "POP_CAL_pivot_df = df.pivot_table(index='Area', columns='Year', values='Population')\n",
        "\n",
        "# Rename columns for clarity (optional)\n",
        "POP_CAL_pivot_df.columns = [f'Year-{col}' for col in POP_CAL_pivot_df.columns]\n",
        "\n",
        "# Reset index to make 'Area' a column again\n",
        "POP_CAL_pivot_df = POP_CAL_pivot_df.reset_index()\n",
        "\n",
        "# Print the result\n",
        "print(POP_CAL_pivot_df.head(2))\n",
        "\n",
        "# Optionally, save the result to a CSV file\n",
        "POP_CAL_pivot_df.to_csv('year-wise.csv', index=False)\n"
      ]
    },
    {
      "cell_type": "markdown",
      "metadata": {
        "id": "Bd13d80FIO7T"
      },
      "source": [
        "After refining the dataset, we integrate it with shapefile data to create an engaging thematic map, showcasing the population distribution for 2022."
      ]
    },
    {
      "cell_type": "code",
      "execution_count": null,
      "metadata": {
        "id": "kLI7tFQ-XFUz"
      },
      "outputs": [],
      "source": [
        "# Plotting Population Data on California Map By Merging it on Basis of County\n",
        "after_merge=CAl.merge(POP_CAL_pivot_df, left_on='NAMELSAD', right_on='Area',how='left')\n",
        "# fig, ax = plt.subplots(1, figsize=(20, 10))\n"
      ]
    },
    {
      "cell_type": "markdown",
      "metadata": {
        "id": "7BVkcfsLI0NN"
      },
      "source": [
        "## **Plotting the population density**\n",
        "Plotting population data on a map allows for a visual representation of demographic distribution across a given geographic area, providing valuable insights into population density, trends, and spatial patterns."
      ]
    },
    {
      "cell_type": "code",
      "execution_count": null,
      "metadata": {
        "id": "ILHKQsc_T2kf"
      },
      "outputs": [],
      "source": [
        "! wget -q -O County_Industry_Data.csv https://github.com/sg2083/GIS_repo/raw/main/County_Industry_Data.csv\n",
        "\n",
        "df_industry = pd.read_csv('County_Industry_Data.csv')\n",
        "df_industry_filter = df_industry[df_industry['ST_ABBREV'] == 'CA']\n",
        "get_df_industry = df_industry_filter[['ID','NAME','INDTECH_CY','INDEDUC_CY']]\n",
        "\n",
        "after_merge_industry=after_merge.merge(get_df_industry, left_on='NAMELSAD', right_on='NAME',how='left')\n",
        "after_merge_industry = after_merge_industry.drop(columns=['Area', 'NAME_y'])\n",
        "print(after_merge_industry.head(2))\n",
        "\n",
        "fig, ax = plt.subplots(1, figsize=(16, 10))\n",
        "\n",
        "after_merge_industry.plot(ax=ax,\n",
        "         column='INDTECH_CY',        # Change this to any other year if needed (e.g., 'Year-2007', 'Year-1995')\n",
        "         legend=True,\n",
        "         cmap='YlOrBr',             # Yellow to Red color gradient\n",
        "         scheme='natural_breaks',    # Classify data into natural breaks (Jenks)\n",
        "         k=5,                      # Number of classes\n",
        "         vmin=0.1 ,\n",
        "         edgecolor='grey',           # Border color for counties\n",
        "         linewidth=2,                # Line width for borders\n",
        "         legend_kwds={               # Customize the legend\n",
        "             \"fmt\": \"{:,.0f}\",       # Format numbers with commas and no decimal points\n",
        "             'loc': 'lower right',   # Legend location\n",
        "             'title_fontsize': 'medium',  # Title font size for the legend\n",
        "             'fontsize': 'small',         # Font size for the legend\n",
        "             'markerscale': 1.4           # Scale of the markers in the legend\n",
        "         })\n",
        "\n",
        "ax.title.set_text(\"California County Industry Data Tech Services in 2018\")\n",
        "\n",
        "ax.set_xticks([])\n",
        "ax.set_yticks([])\n",
        "\n",
        "\n"
      ]
    },
    {
      "cell_type": "markdown",
      "metadata": {
        "id": "S7KAWm5FJm1X"
      },
      "source": [
        "## **Mapping Electric Vehicle Charging Stations**\n",
        "We obtained electric vehicle data that needed cleaning. Although the exact location of the charging stations wasn’t provided, we had longitude and latitude coordinates. Using this, we identified the county for each station and added that information to the data. After merging the longitude and latitude values to create the geometric points, we successfully plotted the EV stations on the map."
      ]
    },
    {
      "cell_type": "code",
      "execution_count": null,
      "metadata": {
        "id": "30gK6SEn9ehy"
      },
      "outputs": [],
      "source": [
        "# Reading EV Charging Station Data\n",
        "! wget -q -O ev_data.csv https://github.com/sg2083/GIS_repo/raw/main/ev_data.csv\n",
        "ev_data = pd.read_csv('ev_data.csv')\n",
        "ev_data.head(2)"
      ]
    },
    {
      "cell_type": "code",
      "execution_count": null,
      "metadata": {
        "id": "DicDVc4j_B9x"
      },
      "outputs": [],
      "source": [
        "# Function to get county name\n",
        "def get_county_from_lat_lon(lat, lon):\n",
        "    coordinates = (lat, lon)\n",
        "    result = rg.search(coordinates)  # Returns a list of dictionaries\n",
        "    return result[0]['admin2']\n",
        "\n",
        "# Apply the function to each row\n",
        "for index, row in ev_data.iterrows():\n",
        "    ev_data.loc[index, 'County'] = get_county_from_lat_lon(row['Latitude'], row['Longitude'])\n",
        "\n",
        "#  Updated ev_data with county information\n",
        "ev_data.to_csv('ev_data_with_county.csv', index=False)\n"
      ]
    },
    {
      "cell_type": "markdown",
      "metadata": {
        "id": "g8DQ4WYOhJbg"
      },
      "source": []
    },
    {
      "cell_type": "code",
      "execution_count": null,
      "metadata": {
        "id": "CoZhL7vQvmTT"
      },
      "outputs": [],
      "source": [
        "ev_data_with_county = pd.read_csv('ev_data_with_county.csv')\n",
        "ev_data_with_county.head(3)"
      ]
    },
    {
      "cell_type": "code",
      "execution_count": null,
      "metadata": {
        "id": "7fJhQj-bn9h8"
      },
      "outputs": [],
      "source": [
        "# Create a GeoDataFrame with geometry for EV stations\n",
        "ev_gdf = gpd.GeoDataFrame(\n",
        "    ev_data_with_county,\n",
        "    geometry=gpd.points_from_xy(ev_data_with_county.Longitude, ev_data_with_county.Latitude)\n",
        ")\n",
        "\n",
        "# Explicitly set the CRS of ev_gdf to match tlC0 - replace 'epsg:xxxx' with the actual EPSG code\n",
        "ev_gdf = ev_gdf.set_crs(\"epsg:4326\")\n",
        "after_merge = after_merge.to_crs(\"epsg:4326\")\n",
        "\n",
        "\n",
        "merged_data = after_merge.merge(ev_data_with_county, left_on='NAMELSAD', right_on='County', how='left')\n"
      ]
    },
    {
      "cell_type": "markdown",
      "metadata": {
        "id": "Mqy7DzRkLVSL"
      },
      "source": [
        "## **Analyzing Electric Vehicle Distribution and Charging Station Accessibility in California**\n",
        "We analyzed EV data across California and visualized it. Next, we layered the locations of charging stations and EVs on the map to see if the stations are placed where they’re most needed."
      ]
    },
    {
      "cell_type": "code",
      "execution_count": null,
      "metadata": {
        "id": "Nd0aHpzC-3Br"
      },
      "outputs": [],
      "source": [
        "# Load the vehicle population data from the Excel file\n",
        "! wget -q -O vehicle_pop.xlsx https://github.com/sg2083/GIS_repo/raw/main/vehicle_pop.xlsx\n",
        "vehicle_pop = pd.read_excel('vehicle_pop.xlsx', sheet_name='County')\n",
        "\n",
        "# Define a reusable function to filter, group, and pivot data for a given year\n",
        "def process_vehicle_data(df, year):\n",
        "    # Filter data by year and fuel types\n",
        "    filtered_df = df[(df['Data Year'] == year) &\n",
        "                     (df['Fuel Type'].isin(['Battery Electric (BEV)', 'Plug-in Hybrid (PHEV)']))]\n",
        "\n",
        "    # Group by county and fuel type and sum the vehicle counts\n",
        "    county_fuel_count = filtered_df.groupby(['County', 'Fuel Type'])['Number of Vehicles'].sum().reset_index()\n",
        "\n",
        "    # Pivot the table for better readability\n",
        "    county_fuel_pivot = county_fuel_count.pivot(index='County', columns='Fuel Type', values='Number of Vehicles').reset_index()\n",
        "\n",
        "    # Fill NaN values with 0\n",
        "    county_fuel_pivot = county_fuel_pivot.fillna(0)\n",
        "\n",
        "    return county_fuel_pivot\n",
        "\n",
        "# Process data for each year\n",
        "county_fuel_2023 = process_vehicle_data(vehicle_pop, 2023)\n",
        "county_fuel_2010 = process_vehicle_data(vehicle_pop, 2010)\n",
        "county_fuel_2017 = process_vehicle_data(vehicle_pop, 2017)\n",
        "\n",
        "# Add a new column 'Total' for the sum of BEV and PHEV for each year\n",
        "county_fuel_2023['Total_EV_Vehicles_2023'] = (county_fuel_2023['Battery Electric (BEV)'] +\n",
        "                                              county_fuel_2023['Plug-in Hybrid (PHEV)'])\n",
        "\n",
        "county_fuel_2010['Total_EV_Vehicles_2010'] = (county_fuel_2010['Battery Electric (BEV)'] +\n",
        "                                              county_fuel_2010['Plug-in Hybrid (PHEV)'])\n",
        "\n",
        "county_fuel_2017['Total_EV_Vehicles_2017'] = (county_fuel_2017['Battery Electric (BEV)'] +\n",
        "                                              county_fuel_2017['Plug-in Hybrid (PHEV)'])\n",
        "\n",
        "# Merge the data from all years into a single DataFrame\n",
        "county_fuel_combined = county_fuel_2023[['County', 'Total_EV_Vehicles_2023']].merge(\n",
        "    county_fuel_2010[['County', 'Total_EV_Vehicles_2010']], on='County', how='left').merge(\n",
        "    county_fuel_2017[['County', 'Total_EV_Vehicles_2017']], on='County', how='left')\n",
        "\n",
        "# Replace any remaining NaN values with 0\n",
        "county_fuel_combined = county_fuel_combined.fillna(0)\n",
        "\n",
        "# Convert only numeric columns to integers, excluding 'County'\n",
        "numeric_columns = county_fuel_combined.select_dtypes(include=['float', 'int']).columns\n",
        "county_fuel_combined[numeric_columns] = county_fuel_combined[numeric_columns].astype(int)\n",
        "\n",
        "# Print the result\n",
        "county_fuel_combined[['Total_EV_Vehicles_2010', 'Total_EV_Vehicles_2017', 'Total_EV_Vehicles_2023']].head(3)\n"
      ]
    },
    {
      "cell_type": "markdown",
      "metadata": {
        "id": "04rRUcyYGGtQ"
      },
      "source": [
        "After filtering the dataset to focus on the counts of electric vehicles (EVs) for the years 2010, 2017, and 2023, I aimed to visualize the growth in EV adoption over this period. By creating side-by-side plots for each of these years, I intended to provide a clear comparison that highlights the increase in vehicle counts. This approach allows for a straightforward visual analysis, making it easier to observe trends and changes in EV numbers over time. The resulting plots serve as an effective tool to illustrate the progress in electric vehicle usage, reflecting broader trends in sustainability and transportation technology."
      ]
    },
    {
      "cell_type": "code",
      "execution_count": null,
      "metadata": {
        "id": "T9llVpOQCmWd"
      },
      "outputs": [],
      "source": [
        "# Merging the datasets\n",
        "merged_data = after_merge.merge(county_fuel_combined, left_on='NAME', right_on='County', how='left')\n",
        "\n",
        "# Find the overall min and max values for color scale consistency\n",
        "vmin = merged_data[['Total_EV_Vehicles_2010', 'Total_EV_Vehicles_2017', 'Total_EV_Vehicles_2023']].min().min()\n",
        "vmax = merged_data[['Total_EV_Vehicles_2010', 'Total_EV_Vehicles_2017', 'Total_EV_Vehicles_2023']].max().max()\n",
        "\n",
        "# Create a figure with 3 subplots\n",
        "fig, axes = plt.subplots(1, 3, figsize=(15, 5))\n",
        "\n",
        "# Plot for 2010\n",
        "merged_data.plot(column='Total_EV_Vehicles_2010',\n",
        "                 cmap='GnBu',\n",
        "                 linewidth=0.8,\n",
        "                 edgecolor='0.8',\n",
        "                 legend=True,\n",
        "                 ax=axes[0],\n",
        "                 vmin=vmin,  # Consistent color scale\n",
        "                 vmax=vmax,  # Consistent color scale\n",
        "                 missing_kwds={'color': 'lightgrey'})\n",
        "axes[0].set_title('Total BEV and PHEV Vehicles by County (2010)')\n",
        "axes[0].set_axis_off()  # Turn off the axis for better map presentation\n",
        "\n",
        "# Plot for 2017\n",
        "merged_data.plot(column='Total_EV_Vehicles_2017',\n",
        "                 cmap='GnBu',\n",
        "                 linewidth=0.8,\n",
        "                 edgecolor='0.8',\n",
        "                 legend=True,\n",
        "                 ax=axes[1],\n",
        "                 vmin=vmin,\n",
        "                 vmax=vmax,\n",
        "                 missing_kwds={'color': 'lightgrey'})\n",
        "axes[1].set_title('Total BEV and PHEV Vehicles by County (2017)')\n",
        "axes[1].set_axis_off()\n",
        "\n",
        "# Plot for 2023\n",
        "merged_data.plot(column='Total_EV_Vehicles_2023',\n",
        "                 cmap='GnBu',\n",
        "                 linewidth=0.8,\n",
        "                 edgecolor='0.8',\n",
        "                 legend=True,\n",
        "                 ax=axes[2],\n",
        "                 vmin=vmin,\n",
        "                 vmax=vmax,\n",
        "                 missing_kwds={'color': 'lightgrey'})\n",
        "axes[2].set_title('Total BEV and PHEV Vehicles by County (2023)')\n",
        "axes[2].set_axis_off()\n",
        "\n",
        "plt.tight_layout()  # Adjust spacing between subplots\n",
        "plt.show()"
      ]
    },
    {
      "cell_type": "code",
      "execution_count": null,
      "metadata": {
        "id": "6_OQ7KMWzxKz"
      },
      "outputs": [],
      "source": [
        "fig, ax = plt.subplots(1, 1, figsize=(5, 3))\n",
        "merged_data.plot(column='Total_EV_Vehicles_2023',\n",
        "                cmap='GnBu',\n",
        "                linewidth=0.8,\n",
        "                edgecolor='0.8',\n",
        "                legend=True,\n",
        "                ax=ax,\n",
        "                missing_kwds={'color': 'lightgrey'})\n",
        "\n",
        "ev_gdf.plot(ax=ax, marker='o', color='Orange', markersize=0.5, alpha=0.5)\n",
        "\n",
        "ax.set_title('Total BEV and PHEV Vehicles by County and EV Charging Stations Available')\n",
        "plt.show()\n"
      ]
    },
    {
      "cell_type": "code",
      "execution_count": null,
      "metadata": {
        "id": "0wkttsfZ0OJz"
      },
      "outputs": [],
      "source": []
    },
    {
      "cell_type": "code",
      "execution_count": null,
      "metadata": {
        "id": "P4JDSlYe03jd"
      },
      "outputs": [],
      "source": [
        "# Assuming 'merged_data' is your GeoDataFrame with county boundaries and EV data\n",
        "merged_data['centroid'] = merged_data.geometry.centroid\n",
        "\n",
        "# Print the updated GeoDataFrame\n",
        "print(merged_data.head(2))  # Display the first two rows to verify centroid calculation"
      ]
    },
    {
      "cell_type": "markdown",
      "metadata": {
        "id": "Iahp6yrlNPvV"
      },
      "source": [
        "\n",
        "we are visualizing electric vehicle (EV) data for the year 2023 by plotting county boundaries and their centroids on a map. First, we create a figure and axis for our plot, then render the county boundaries in beige with black edges for clarity. Next, we define a custom colormap for better visual representation of the EV data, specifically adjusting it to start from a lighter shade. We then plot the centroids of each county, using the total number of EVs from 2017 to determine the color intensity of the markers, making it easier to identify areas with higher vehicle counts. The plot is enhanced with a title and labeled axes, ultimately providing insights into the distribution of EVs across different regions. This visual analysis helps us observe patterns in EV adoption over time."
      ]
    },
    {
      "cell_type": "code",
      "execution_count": null,
      "metadata": {
        "id": "-OTdbdND1R6g"
      },
      "outputs": [],
      "source": [
        "# fig, ax = plt.subplots(figsize=(5, 5))\n",
        "\n",
        "# # Plot the county boundaries with a specific color\n",
        "# merged_data.plot(ax=ax, color='beige', edgecolor='black', linewidth=0.5)\n",
        "\n",
        "# # Plot the centroids\n",
        "# merged_data.plot(ax=ax, column='Total_EV_Vehicles', marker='o', markersize=10, cmap='Reds', legend=True, scheme='natural_breaks')\n",
        "\n",
        "# Create a custom colormap with a modified minimum color\n",
        "cmap = plt.cm.get_cmap('Reds')  # Get the 'Reds' colormap\n",
        "new_cmap = cmap(np.linspace(0.2, 1, cmap.N))  # Start from 0.2 instead of 0\n",
        "new_cmap = mcolors.ListedColormap(new_cmap)  # Create a new colormap\n",
        "\n"
      ]
    },
    {
      "cell_type": "markdown",
      "metadata": {
        "id": "6l870qBEN8am"
      },
      "source": [
        "#**Air Quality Index of 2010 , 2017 and 2023**\n",
        "This code starts by downloading air quality data for the years 2010, 2017, and 2023 from specific online sources. Once the data is in hand, it defines a function that processes this information: it reads each CSV file, groups the data by county, calculates the average daily PM2.5 concentrations and Air Quality Index (AQI) values, and renames the columns to make them clearer. After processing the data for all three years, the code merges these datasets based on the 'County' column, resulting in a comprehensive table that captures air quality metrics for each county across the different years.\n",
        "\n",
        "Following that, the code combines this air quality data with existing electric vehicle (EV) information. This merging allows us to analyze how air quality relates to the number of electric vehicles in each county. To visualize this relationship, the code creates histograms showing the distribution of AQI levels for each year. Each histogram represents the frequency of counties at different AQI levels, using distinct colors to make the data easy to interpret. This visual approach helps us spot trends and patterns in air quality over time, enhancing our understanding of how air pollution might connect with the adoption of electric vehicles. Finally, the layout of the plots is adjusted for a polished presentation, and the histograms are displayed for viewing."
      ]
    },
    {
      "cell_type": "code",
      "execution_count": null,
      "metadata": {
        "id": "oLEuS_UGclSC"
      },
      "outputs": [],
      "source": [
        "! wget -q -O air_quality_PM_2010.csv https://github.com/sg2083/GIS_repo/raw/main/air_quality_PM_2010.csv\n",
        "! wget -q -O air_quality_PM_2017.csv https://github.com/sg2083/GIS_repo/raw/main/air_quality_PM_2017.csv\n",
        "! wget -q -O air_quality_PM_2023.csv https://github.com/sg2083/GIS_repo/raw/main/air_quality_PM_2023.csv\n",
        "data = pd.read_csv('air_quality_PM_2010.csv')\n",
        "\n",
        "# Function to load, group by 'County', calculate mean, round values, and rename columns\n",
        "def process_data(file_path, year):\n",
        "    data = pd.read_csv(file_path)\n",
        "    county_grouped = data.groupby('County').mean(numeric_only=True).round(2)\n",
        "    county_grouped = county_grouped.rename(columns={\n",
        "        'Daily Mean PM2.5 Concentration': f'Mean PM2.5_{year}',\n",
        "        'Daily AQI Value': f'Mean AQI_{year}'\n",
        "    })\n",
        "    return county_grouped\n",
        "\n",
        "# Process data for 2010, 2017, and 2023\n",
        "county_grouped_2010 = process_data('air_quality_PM_2010.csv', 2010)\n",
        "county_grouped_2017 = process_data('air_quality_PM_2017.csv', 2017)\n",
        "county_grouped_2023 = process_data('air_quality_PM_2023.csv', 2023)\n",
        "\n",
        "# Merge data for all years on 'County'\n",
        "merged_air_data = county_grouped_2010[['Site ID', f'Mean PM2.5_2010', f'Mean AQI_2010', 'Site Latitude', 'Site Longitude']].merge(\n",
        "    county_grouped_2017[[f'Mean PM2.5_2017', f'Mean AQI_2017']], on='County', how='inner'\n",
        ").merge(\n",
        "    county_grouped_2023[[f'Mean PM2.5_2023', f'Mean AQI_2023']], on='County', how='inner'\n",
        ")\n",
        "\n",
        "# Display the merged table with data from 2010, 2017, and 2023\n",
        "merged_air_data.head()"
      ]
    },
    {
      "cell_type": "code",
      "execution_count": null,
      "metadata": {
        "id": "F5Mqg-oNiTJn"
      },
      "outputs": [],
      "source": [
        "# Merge EV data with the previously merged air quality data on 'County'\n",
        "merged_ev_data = merged_air_data.merge(merged_data[['County', 'Total_EV_Vehicles_2023', 'Total_EV_Vehicles_2017', 'Total_EV_Vehicles_2010']], on='County', how='inner')\n",
        "\n",
        "# Display the merged data with EV population\n",
        "merged_ev_data.head()"
      ]
    },
    {
      "cell_type": "code",
      "execution_count": null,
      "metadata": {
        "id": "6VVvcGwbBy74"
      },
      "outputs": [],
      "source": [
        "fig, axes = plt.subplots(1, 3, figsize=(10, 5))\n",
        "\n",
        "# Plot histogram for AQI levels in 2010 and 2017 on the left\n",
        "axes[0].hist(merged_ev_data['Mean AQI_2010'], bins=30, alpha=0.7, label='AQI 2010', color='#ffeb3b')  # Yellow\n",
        "axes[0].set_xlabel('AQI Levels')\n",
        "axes[0].set_ylabel('Frequency of Counties')\n",
        "axes[0].set_title('AQI Levels Distribution (2010)')\n",
        "axes[0].legend()\n",
        "\n",
        "# Plot histogram for AQI levels in 2017 and 2023 on the right\n",
        "axes[1].hist(merged_ev_data['Mean AQI_2017'], bins=30, alpha=0.7, label='AQI 2017', color='#e91e63')  # Pink\n",
        "axes[1].set_xlabel('AQI Levels')\n",
        "axes[1].set_ylabel('Frequency of Counties')\n",
        "axes[1].set_title('AQI Levels Distribution (2017)')\n",
        "axes[1].legend()\n",
        "\n",
        "axes[2].hist(merged_ev_data['Mean AQI_2023'], bins=30, alpha=0.7, label='AQI 2023', color='#388e3c')  # Dark Green\n",
        "axes[2].set_xlabel('AQI Levels')\n",
        "axes[2].set_ylabel('Frequency of Counties')\n",
        "axes[2].set_title('AQI Levels Distribution (2023)')\n",
        "axes[2].legend()\n",
        "# Adjust layout to prevent overlapping\n",
        "plt.tight_layout()\n",
        "\n",
        "# Show the plot\n",
        "plt.show()"
      ]
    },
    {
      "cell_type": "markdown",
      "metadata": {
        "id": "EMGtTaSmOS5b"
      },
      "source": [
        "derive PM2.5 pollutant from the data and plotting it on the graph. Cuz we are studying about EV vechiles and PM2.5 is related to vechile emmision pollutatant that has to be reduced  "
      ]
    },
    {
      "cell_type": "markdown",
      "metadata": {
        "id": "eI3mj3KLPJWW"
      },
      "source": [
        "#**Analysis of air Pollutents related to vechicles**\n",
        "pollution and PM2.5 pollunent data\n",
        "ChatGPT said:\n",
        "ChatGPT\n",
        "As a next step, we focus on visualizing PM2.5 pollutant levels to understand their relationship with electric vehicle (EV) emissions. PM2.5, fine particulate matter that can penetrate deep into the lungs, is a significant air pollutant associated with various health issues and environmental concerns. Monitoring its levels is crucial, especially as we study the impact of vehicle emissions on air quality. This plot displays the mean PM2.5 concentrations across different counties for the years 2010, 2017, and 2023. Using line plots for each year, distinct colors enhance clarity. The x-axis represents the counties, while the y-axis shows the mean PM2.5 concentrations. The visualization includes a title, axis labels, and a legend for easy interpretation. By illustrating trends in PM2.5 levels over time, this analysis highlights the importance of reducing vehicle emissions to improve air quality and public heal"
      ]
    },
    {
      "cell_type": "code",
      "execution_count": null,
      "metadata": {
        "id": "vA15wLB_kS4I"
      },
      "outputs": [],
      "source": [
        "# Set the figure size\n",
        "plt.figure(figsize=(14, 8))\n",
        "\n",
        "# Plot each year's PM2.5 values\n",
        "plt.plot(merged_ev_data['County'], merged_ev_data['Mean PM2.5_2010'], marker='o', label='Mean PM2.5 2010', color='blue')\n",
        "plt.plot(merged_ev_data['County'], merged_ev_data['Mean PM2.5_2017'], marker='o', label='Mean PM2.5 2017', color='orange')\n",
        "plt.plot(merged_ev_data['County'], merged_ev_data['Mean PM2.5_2023'], marker='o', label='Mean PM2.5 2023', color='green')\n",
        "\n",
        "# Title and labels\n",
        "plt.title('Mean PM2.5 Concentration Across Counties (2010, 2017, 2023)', fontsize=16)\n",
        "plt.xlabel('County', fontsize=14)\n",
        "plt.ylabel('Mean PM2.5 Concentration', fontsize=14)\n",
        "plt.xticks(rotation=90)  # Rotate x-axis labels for better readability\n",
        "plt.legend()\n",
        "plt.grid()\n",
        "\n",
        "# Show the plot\n",
        "plt.tight_layout()\n",
        "plt.show()"
      ]
    },
    {
      "cell_type": "markdown",
      "metadata": {
        "id": "jf1v3Yn7Pgky"
      },
      "source": []
    },
    {
      "cell_type": "markdown",
      "metadata": {
        "id": "cX-UQ8NwP5i7"
      },
      "source": [
        "In this next step, we create a GeoDataFrame to visualize PM2.5 pollution data using latitude and longitude coordinates. This involves constructing geometrical points for each site based on their respective coordinates and ensuring the GeoDataFrame is aligned with the correct coordinate reference system (EPSG:4326). After that, we merge this PM2.5 data with a shapefile of California counties, allowing us to map the pollution levels accurately.\n",
        "\n",
        "Now, we study PM2.5 over the three years (2010, 2017, and 2023) and plot them on an interactive map. We define a function to visualize the PM2.5 levels for each year, using a color gradient to represent different levels of pollution. This function also adds a basemap for better context.\n",
        "\n",
        "To enhance user interaction, an interactive slider is implemented, enabling users to choose the year they wish to explore. Additionally, we employ the Folium library to create a dynamic map that visualizes Air Quality Index (AQI) values at various locations, with markers color-coded based on the AQI level. Each marker displays relevant information about the county and AQI value when clicked.\n",
        "\n",
        "This approach not only helps in analyzing PM2.5 data over time but also emphasizes the relationship between vehicle emissions and air quality, providing insights into the effectiveness of policies aimed at reducing pollution."
      ]
    },
    {
      "cell_type": "code",
      "execution_count": null,
      "metadata": {
        "id": "Ijkts5xArwDm"
      },
      "outputs": [],
      "source": [
        "# Step 3: Create a GeoDataFrame using PM2.5 data (using Lat/Lon)\n",
        "geometry = [Point(xy) for xy in zip(merged_ev_data['Site Longitude'], merged_ev_data['Site Latitude'])]\n",
        "gdf = gpd.GeoDataFrame(merged_ev_data, geometry=geometry)\n",
        "\n",
        "# Ensure the GeoDataFrame is using the same CRS as the shapefile (EPSG:4326 for lat/lon)\n",
        "gdf.set_crs(epsg=4326, inplace=True).head(2)\n",
        "\n",
        "# Step 4: Merge PM2.5 data with California shapefile based on county name\n",
        "gdf_county = gdf.merge(merged_ev_data, left_on='County', right_on='County')\n",
        "\n",
        "# Define a function to plot the PM2.5 data with time slider and basemap\n",
        "def plot_map(year):\n",
        "    # Map the PM2.5 values based on the selected year\n",
        "    if year == 2010:\n",
        "        gdf_county.plot(column='Mean PM2.5_2010_x', cmap='coolwarm', figsize=(6, 6), legend=True)\n",
        "        plt.title('Mean PM2.5 Levels (2010)')\n",
        "    elif year == 2017:\n",
        "        gdf_county.plot(column='Mean PM2.5_2017_x', cmap='coolwarm', figsize=(6, 6), legend=True)\n",
        "        plt.title('Mean PM2.5 Levels (2017)')\n",
        "    elif year == 2023:\n",
        "        gdf_county.plot(column='Mean PM2.5_2023_x', cmap='coolwarm', figsize=(6, 6), legend=True)\n",
        "        plt.title('Mean PM2.5 Levels (2023)')\n",
        "\n",
        "    # Add basemap using contextily\n",
        "    ctx.add_basemap(plt.gca(), crs=gdf_county.crs.to_string(), source=ctx.providers.OpenStreetMap.Mapnik)\n",
        "    plt.show()\n",
        "\n",
        "# Step 6: Interactive map with time slider\n",
        "interact(plot_map, year=widgets.IntSlider(min=2010, max=2023, step=7, value=2010))\n",
        "\n"
      ]
    },
    {
      "cell_type": "markdown",
      "source": [
        "A heat map of PM2.5 levels visually represents the concentration of particulate matter (PM2.5) across a geographic area, using colors to indicate varying levels of pollution. In the map, areas with higher PM2.5 concentrations are typically shaded in darker or more intense colors, while regions with lower concentrations appear in lighter shades. This type of map allows for a quick understanding of pollution hotspots, helping to identify areas with significant air quality issues. By analyzing a heat map of PM2.5 levels, we can assess the spatial distribution of air pollution, detect trends over time, and make informed decisions about environmental policies, urban planning, and public health interventions. It is particularly useful for highlighting the impact of vehicle emissions, industrial activities, or the effectiveness of air quality improvement measures."
      ],
      "metadata": {
        "id": "EiNoVrPkD78i"
      }
    },
    {
      "cell_type": "code",
      "execution_count": null,
      "metadata": {
        "id": "d3MgUnHPDXBS"
      },
      "outputs": [],
      "source": [
        "# Heat Map\n",
        "# Create the base map centered at California's mean latitude and longitude\n",
        "map_center = [merged_ev_data['Site Latitude'].mean(), merged_ev_data['Site Longitude'].mean()]\n",
        "map_pm25 = folium.Map(location=map_center, zoom_start=6, width=800, height=600)\n",
        "\n",
        "# Function to create a heatmap for a given year (2010, 2017, 2023)\n",
        "def create_heatmap_for_year(data, year_column, year_name):\n",
        "    # Prepare the data for the heatmap\n",
        "    # Each point in the heatmap is a tuple of (latitude, longitude, PM2.5 value)\n",
        "    heat_data = [\n",
        "        [row['Site Latitude'], row['Site Longitude'], row[year_column]]\n",
        "        for index, row in data.iterrows()\n",
        "        if not pd.isnull(row[year_column])  # Ignore rows where PM2.5 value is NaN\n",
        "    ]\n",
        "\n",
        "    # Create a heatmap with PM2.5 values as the weight\n",
        "    heatmap = HeatMap(heat_data, min_opacity=0.2, max_zoom=15, radius=25, blur=15, max_val=max(data[year_column]))\n",
        "\n",
        "    # Create a separate map layer for each year\n",
        "    heatmap.add_to(folium.FeatureGroup(name=f\"PM2.5 {year_name}\").add_to(map_pm25))\n",
        "\n",
        "# Generate heatmaps for each year\n",
        "create_heatmap_for_year(merged_ev_data, 'Mean PM2.5_2010', '2010')\n",
        "create_heatmap_for_year(merged_ev_data, 'Mean PM2.5_2017', '2017')\n",
        "create_heatmap_for_year(merged_ev_data, 'Mean PM2.5_2023', '2023')\n",
        "\n",
        "# Add a layer control to toggle between the different years\n",
        "folium.LayerControl().add_to(map_pm25)\n",
        "\n",
        "# Display the map\n",
        "map_pm25"
      ]
    },
    {
      "cell_type": "markdown",
      "source": [
        "## **Bivariate Analysis of Electric Vehicle Adoption and PM2.5 Levels Over Time**\n",
        "In the next phase of our analysis, we will create a bivariate graph to explore the relationship between electric vehicle (EV) adoption and PM2.5 levels over time. This graph will allow us to visually examine how the growth of EVs correlates with changes in PM2.5 concentrations across different periods. By plotting both variables on the same graph, we aim to identify any trends or patterns, such as whether increased EV adoption leads to a noticeable reduction in PM2.5 levels. The bivariate graph will help us understand the potential environmental impact of EVs in reducing air pollution, providing a clearer view of the long-term effects of EV adoption on air quality. This analysis will be crucial for assessing the effectiveness of EVs in improving urban air quality and public health."
      ],
      "metadata": {
        "id": "RJpxpLGkEo2V"
      }
    },
    {
      "cell_type": "code",
      "execution_count": null,
      "metadata": {
        "id": "dX0G3tW4IPt9"
      },
      "outputs": [],
      "source": [
        "\n",
        "# Define number of quantiles for EV and PM2.5\n",
        "n_quantiles = 3\n",
        "gdf_county.head(2)\n",
        "# Apply quantile binning for both datasets\n",
        "ev_binner = KBinsDiscretizer(n_bins=n_quantiles, encode='ordinal', strategy='quantile')\n",
        "pm25_binner = KBinsDiscretizer(n_bins=n_quantiles, encode='ordinal', strategy='quantile')\n",
        "\n",
        "# Add classified data to DataFrame\n",
        "gdf_county['ev_class'] = ev_binner.fit_transform(gdf_county[['Total_EV_Vehicles_2023_y']]).astype(int)\n",
        "gdf_county['pm25_class'] = pm25_binner.fit_transform(gdf_county[['Mean PM2.5_2023_x']]).astype(int)\n",
        "\n",
        "# Create bivariate class\n",
        "gdf_county['bivariate_class'] = gdf_county['ev_class'] * n_quantiles + gdf_county['pm25_class']\n",
        "\n",
        "# Define a color dictionary for the 9 possible combinations (3 EV classes * 3 PM2.5 classes)\n",
        "bivariate_colors = {\n",
        "    0: '#e8e8e8',  # low EV, low PM2.5\n",
        "    1: '#ace4e4',  # low EV, medium PM2.5\n",
        "    2: '#5ac8c8',  # low EV, high PM2.5\n",
        "    3: '#dfb0d6',  # medium EV, low PM2.5\n",
        "    4: '#a5add3',  # medium EV, medium PM2.5\n",
        "    5: '#5698b9',  # medium EV, high PM2.5\n",
        "    6: '#be64ac',  # high EV, low PM2.5\n",
        "    7: '#8c62aa',  # high EV, medium PM2.5\n",
        "    8: '#3b4994'   # high EV, high PM2.5\n",
        "}\n",
        "gdf_county.rename(columns={'geometry': 'centro'}, inplace=True)\n",
        "gdf_county = gdf_county.merge(merged_data[['County','geometry']], on='County', how='inner')\n",
        "\n",
        "gdf = gpd.GeoDataFrame(gdf_county, geometry=gdf_county['geometry'])\n",
        "\n",
        "# Create a map centered on the USA (adjust based on your location)\n",
        "# m = folium.Map(location=[37.8, -96], zoom_start=4)\n",
        "\n",
        "# # Add polygons with bivariate colors based on the 'bivariate_class'\n",
        "# for _, row in gdf.iterrows():\n",
        "#     folium.GeoJson(\n",
        "#         row['geometry'],\n",
        "#         style_function=lambda feature, row=row: {\n",
        "#             'fillColor': bivariate_colors[row['bivariate_class']],\n",
        "#             'color': 'black',  # Boundary color\n",
        "#             'weight': 0.5,\n",
        "#             'fillOpacity': 0.7,\n",
        "#         }\n",
        "#     ).add_to(m)\n",
        "\n",
        "# Add a legend manually (you can format this as needed)\n",
        "legend_html = '''\n",
        "<div style=\"position: fixed;\n",
        "     bottom: 20px; left: 50px; width: 200px; height: 270px;\n",
        "     background-color: white; z-index:9999; font-size:14px;\">\n",
        "     <b>&nbsp; Bivariate Legend</b><br>\n",
        "     &nbsp; EV ↓ PM2.5 →<br>\n",
        "     &nbsp; <i style=\"background-color: #e8e8e8; width: 20px; height: 20px; display: inline-block;\"></i>&nbsp; Low EV, Low PM2.5<br>\n",
        "     &nbsp; <i style=\"background-color: #ace4e4; width: 20px; height: 20px; display: inline-block;\"></i>&nbsp; Low EV, Med PM2.5<br>\n",
        "     &nbsp; <i style=\"background-color: #5ac8c8; width: 20px; height: 20px; display: inline-block;\"></i>&nbsp; Low EV, High PM2.5<br>\n",
        "     &nbsp; <i style=\"background-color: #dfb0d6; width: 20px; height: 20px; display: inline-block;\"></i>&nbsp; Med EV, Low PM2.5<br>\n",
        "     &nbsp; <i style=\"background-color: #a5add3; width: 20px; height: 20px; display: inline-block;\"></i>&nbsp; Med EV, Med PM2.5<br>\n",
        "     &nbsp; <i style=\"background-color: #5698b9; width: 20px; height: 20px; display: inline-block;\"></i>&nbsp; Med EV, High PM2.5<br>\n",
        "     &nbsp; <i style=\"background-color: #be64ac; width: 20px; height: 20px; display: inline-block;\"></i>&nbsp; High EV, Low PM2.5<br>\n",
        "     &nbsp; <i style=\"background-color: #8c62aa; width: 20px; height: 20px; display: inline-block;\"></i>&nbsp; High EV, Med PM2.5<br>\n",
        "     &nbsp; <i style=\"background-color: #3b4994; width: 20px; height: 20px; display: inline-block;\"></i>&nbsp; High EV, High PM2.5<br>\n",
        "</div>\n",
        "'''\n",
        "\n",
        "# m.get_root().html.add_child(folium.Element(legend_html))\n",
        "\n",
        "# Display the map\n",
        "# m\n"
      ]
    },
    {
      "cell_type": "code",
      "execution_count": null,
      "metadata": {
        "id": "WB6FaSyBXBTb"
      },
      "outputs": [],
      "source": [
        "import geopandas as gpd\n",
        "import folium\n",
        "from sklearn.preprocessing import KBinsDiscretizer\n",
        "from IPython.display import display, HTML\n",
        "\n",
        "# Function to create bivariate map for a specific year\n",
        "def create_bivariate_map(gdf_county, year, n_quantiles=3):\n",
        "    # Define columns based on year\n",
        "    ev_column = f'Total_EV_Vehicles_{year}_y'\n",
        "    pm25_column = f'Mean PM2.5_{year}_x'\n",
        "\n",
        "    # Apply quantile binning for EV and PM2.5 data\n",
        "    ev_binner = KBinsDiscretizer(n_bins=n_quantiles, encode='ordinal', strategy='quantile')\n",
        "    pm25_binner = KBinsDiscretizer(n_bins=n_quantiles, encode='ordinal', strategy='quantile')\n",
        "\n",
        "    # Add classified data to DataFrame\n",
        "    gdf_county['ev_class'] = ev_binner.fit_transform(gdf_county[[ev_column]]).astype(int)\n",
        "    gdf_county['pm25_class'] = pm25_binner.fit_transform(gdf_county[[pm25_column]]).astype(int)\n",
        "\n",
        "    # Create bivariate class\n",
        "    gdf_county['bivariate_class'] = gdf_county['ev_class'] * n_quantiles + gdf_county['pm25_class']\n",
        "\n",
        "    # Define color mapping\n",
        "    bivariate_colors = {\n",
        "        0: '#e8e8e8', 1: '#ace4e4', 2: '#5ac8c8',\n",
        "        3: '#dfb0d6', 4: '#a5add3', 5: '#5698b9',\n",
        "        6: '#be64ac', 7: '#8c62aa', 8: '#3b4994'\n",
        "    }\n",
        "\n",
        "    # Create folium map\n",
        "    m = folium.Map(location=[37.8, -96], zoom_start=4)\n",
        "\n",
        "    # Add polygons with bivariate colors\n",
        "    for _, row in gdf_county.iterrows():\n",
        "        folium.GeoJson(\n",
        "            row['geometry'],\n",
        "            style_function=lambda feature, row=row: {\n",
        "                'fillColor': bivariate_colors[row['bivariate_class']],\n",
        "                'color': 'black',\n",
        "                'weight': 0.5,\n",
        "                'fillOpacity': 0.7,\n",
        "            }\n",
        "        ).add_to(m)\n",
        "\n",
        "    return m\n",
        "\n",
        "# Generate maps for each year\n",
        "map_2010 = create_bivariate_map(gdf_county, 2010)\n",
        "map_2017 = create_bivariate_map(gdf_county, 2017)\n",
        "map_2023 = create_bivariate_map(gdf_county, 2023)\n",
        "\n",
        "# Define a standalone legend HTML\n",
        "legend_html = '''\n",
        "<div style=\"position: relative;\n",
        "     margin-top: 20px; width: 200px; height: 270px;\n",
        "     background-color: white; z-index:9999; font-size:14px; border: 1px solid black;\n",
        "     padding: 10px;\">\n",
        "     <b>&nbsp; Bivariate Legend</b><br>\n",
        "     &nbsp; EV ↓ PM2.5 →<br>\n",
        "     &nbsp; <i style=\"background-color: #e8e8e8; width: 20px; height: 20px; display: inline-block;\"></i>&nbsp; Low EV, Low PM2.5<br>\n",
        "     &nbsp; <i style=\"background-color: #ace4e4; width: 20px; height: 20px; display: inline-block;\"></i>&nbsp; Low EV, Med PM2.5<br>\n",
        "     &nbsp; <i style=\"background-color: #5ac8c8; width: 20px; height: 20px; display: inline-block;\"></i>&nbsp; Low EV, High PM2.5<br>\n",
        "     &nbsp; <i style=\"background-color: #dfb0d6; width: 20px; height: 20px; display: inline-block;\"></i>&nbsp; Med EV, Low PM2.5<br>\n",
        "     &nbsp; <i style=\"background-color: #a5add3; width: 20px; height: 20px; display: inline-block;\"></i>&nbsp; Med EV, Med PM2.5<br>\n",
        "     &nbsp; <i style=\"background-color: #5698b9; width: 20px; height: 20px; display: inline-block;\"></i>&nbsp; Med EV, High PM2.5<br>\n",
        "     &nbsp; <i style=\"background-color: #be64ac; width: 20px; height: 20px; display: inline-block;\"></i>&nbsp; High EV, Low PM2.5<br>\n",
        "     &nbsp; <i style=\"background-color: #8c62aa; width: 20px; height: 20px; display: inline-block;\"></i>&nbsp; High EV, Med PM2.5<br>\n",
        "     &nbsp; <i style=\"background-color: #3b4994; width: 20px; height: 20px; display: inline-block;\"></i>&nbsp; High EV, High PM2.5<br>\n",
        "</div>\n",
        "'''\n",
        "\n",
        "# Display maps side by side and the legend below in Colab\n",
        "display(HTML(f'''\n",
        "<div style=\"display: flex; justify-content: space-around; margin-bottom: 20px;\">\n",
        "    <div style=\"width: 32%;\">{map_2010._repr_html_()}</div>\n",
        "    <div style=\"width: 32%;\">{map_2017._repr_html_()}</div>\n",
        "    <div style=\"width: 32%;\">{map_2023._repr_html_()}</div>\n",
        "</div>\n",
        "<div style=\"display: flex; justify-content: center;\">\n",
        "    {legend_html}\n",
        "</div>\n",
        "'''))\n"
      ]
    },
    {
      "cell_type": "markdown",
      "source": [
        "### Clustering Analysis of EV Adoption and PM2.5 Levels\n",
        "\n",
        "In this analysis, we are using clustering techniques to better understand the relationship between electric vehicle (EV) adoption and PM2.5 levels over time. The previous bivariate maps were difficult to interpret due to the complexity of the data, so clustering provides a more accessible way to group regions with similar patterns. By applying **K-means clustering**, we aim to categorize counties based on their PM2.5 levels and EV adoption rates over three time points (2010, 2017, and 2023).\n",
        "\n",
        "The steps in the code involve:\n",
        "\n",
        "1. **Standardizing the Data**: We begin by standardizing the relevant features (PM2.5 levels and EV adoption data) to ensure they are on a comparable scale.\n",
        "2. **Applying K-means Clustering**: We use the K-means algorithm with 5 clusters to group the counties based on the patterns observed in the data. Each cluster represents a distinct combination of PM2.5 trends and EV adoption levels.\n",
        "3. **Assigning Cluster Descriptions**: Each cluster is given a descriptive label based on the general characteristics of the data, such as \"Moderate Improvement in PM2.5 with Moderate EV Adoption\" or \"Stable PM2.5 with Slow EV Growth.\"\n",
        "4. **Visualizing the Clusters**: Finally, we visualize these clusters on a **Folium map** where each county is color-coded according to its assigned cluster. The map includes interactive popups showing detailed information about the PM2.5 levels and EV adoption in each region, making it easier to compare counties across different clusters.\n",
        "\n",
        "The clustering approach helps us simplify the complexity of the data, providing a clearer view of how EV adoption is potentially influencing PM2.5 levels over time across different counties. The resulting map offers a more accessible and interpretable representation of the data, allowing us to identify trends and regional variations more effectively."
      ],
      "metadata": {
        "id": "wTD_ftfgFx35"
      }
    },
    {
      "cell_type": "code",
      "execution_count": null,
      "metadata": {
        "id": "DdLasKPTVUoD"
      },
      "outputs": [],
      "source": [
        "import pandas as pd\n",
        "import geopandas as gpd\n",
        "from sklearn.preprocessing import StandardScaler\n",
        "from sklearn.cluster import KMeans\n",
        "import folium\n",
        "\n",
        "# Assuming `gdf` is your GeoDataFrame with the relevant columns\n",
        "# Select relevant columns for clustering\n",
        "data_for_clustering = gdf_county[['Mean PM2.5_2010_x', 'Mean PM2.5_2017_x', 'Mean PM2.5_2023_x',\n",
        "                           'Total_EV_Vehicles_2010_y', 'Total_EV_Vehicles_2017_y', 'Total_EV_Vehicles_2023_y']]\n",
        "\n",
        "# Step 1: Standardize the data\n",
        "scaler = StandardScaler()\n",
        "data_scaled = scaler.fit_transform(data_for_clustering)\n",
        "\n",
        "# Step 2: Apply K-means with 5 clusters\n",
        "kmeans = KMeans(n_clusters=5, random_state=0)\n",
        "gdf['Cluster'] = kmeans.fit_predict(data_scaled)\n",
        "\n",
        "# Step 3: Define descriptions and colors for each cluster\n",
        "cluster_descriptions = {\n",
        "    0: \"Cluster 0 - Slow improvement PM2.5, Low EV Adoption\",\n",
        "    1: \"Cluster 1 - Moderate Improvement PM2.5, Moderate EV Adoption\",\n",
        "    2: \"Cluster 2 - Improving PM2.5, High EV Adoption\",\n",
        "    3: \"Cluster 3 - Low Improvement in PM2.5 with Rising EV Adoption\",\n",
        "    4: \"Cluster 4 - Stable PM2.5, Slow EV Growth\"\n",
        "}\n",
        "\n",
        "cluster_colors = {\n",
        "    0: '#e8e8e8',  # Color for Cluster 0\n",
        "    1: '#ace4e4',  # Color for Cluster 1\n",
        "    2: '#5ac8c8',  # Color for Cluster 2\n",
        "    3: '#dfb0d6',  # Color for Cluster 3\n",
        "    4: '#a5add3'   # Color for Cluster 4\n",
        "}\n",
        "\n",
        "# Step 4: Visualize clusters on a Folium map\n",
        "m = folium.Map(location=[37.8, -96], zoom_start=4)\n",
        "\n",
        "for _, row in gdf.iterrows():\n",
        "    cluster_id = row['Cluster']\n",
        "    description = cluster_descriptions.get(cluster_id, \"No description available\")\n",
        "    popup_content = f\"\"\"\n",
        "    <div style=\"font-size: 12px;\">\n",
        "        <b>County:</b> {row['County']}<br>\n",
        "        <b>Cluster:</b> {cluster_id} - {description}<br><br>\n",
        "\n",
        "        <b>PM2.5 Levels Over Time:</b><br>\n",
        "        &bull; 2010: {row['Mean PM2.5_2010_x']}<br>\n",
        "        &bull; 2017: {row['Mean PM2.5_2017_x']}<br>\n",
        "        &bull; 2023: {row['Mean PM2.5_2023_x']}<br><br>\n",
        "\n",
        "        <b>EV Adoption Over Time:</b><br>\n",
        "        &bull; 2010: {row['Total_EV_Vehicles_2010_y']}<br>\n",
        "        &bull; 2017: {row['Total_EV_Vehicles_2017_y']}<br>\n",
        "        &bull; 2023: {row['Total_EV_Vehicles_2023_y']}\n",
        "    </div>\n",
        "    \"\"\"\n",
        "\n",
        "    # Create a polygon layer for the county with a tooltip\n",
        "    folium.GeoJson(\n",
        "        row['geometry'],\n",
        "        style_function=lambda feature, color=cluster_colors[cluster_id]: {\n",
        "            'fillColor': color,\n",
        "            'color': 'black',\n",
        "            'weight': 0.5,\n",
        "            'fillOpacity': 0.7,\n",
        "        },\n",
        "        tooltip=folium.Tooltip(f\"Cluster: {cluster_id}\")\n",
        "    ).add_to(m)\n",
        "\n",
        "    # Calculate the centroid for placing the marker\n",
        "    centroid = row['geometry'].centroid\n",
        "    marker_location = [centroid.y, centroid.x]\n",
        "\n",
        "    # Add a marker with a popup at the centroid of the polygon\n",
        "    folium.Marker(\n",
        "        location=marker_location,\n",
        "        popup=folium.Popup(popup_content, max_width=300)\n",
        "    ).add_to(m)\n",
        "\n",
        "# Display the map\n",
        "m\n"
      ]
    },
    {
      "cell_type": "code",
      "execution_count": null,
      "metadata": {
        "id": "xMAAN6oBm1g7"
      },
      "outputs": [],
      "source": [
        "vehicle_pop.head(5)"
      ]
    },
    {
      "cell_type": "markdown",
      "source": [],
      "metadata": {
        "id": "0X-IyfckJcsO"
      }
    },
    {
      "cell_type": "code",
      "source": [
        "!wget https://raw.githubusercontent.com/sg2083/GIS_repo/main/Ev_vs_disel.jpg -O myimage.jpg\n",
        "# Image('myimage.jpg')\n",
        "display(Image(filename='myimage.jpg', width=500))"
      ],
      "metadata": {
        "id": "kgPcQhygHjVX"
      },
      "execution_count": null,
      "outputs": []
    },
    {
      "cell_type": "markdown",
      "source": [],
      "metadata": {
        "id": "APF3X6B3NOLh"
      }
    },
    {
      "cell_type": "markdown",
      "source": [
        "The study examines the impacts of electric vehicle (EV) adoption on PM2.5 levels in California under various scenarios. These scenarios simulate different levels of electrification of the state’s vehicle fleet, ranging from partial electrification to full electrification of on-road vehicles. The specific scenarios and their descriptions are as follows:\n",
        "\n",
        "### Simulation Scenarios:\n",
        "\n",
        "- **BASE**:  \n",
        "  This is the baseline scenario, where no electrification occurs, and the default on-road vehicle population is used. It serves as the comparison point for all other simulations.\n",
        "\n",
        "- **EV25, EV50, EV100**:  \n",
        "  These scenarios represent different levels of EV adoption, where 25%, 50%, and 100% of internal combustion engine (ICE) on-road vehicles are replaced by electric vehicles (EVs). These simulations show the changes in PM2.5 levels based on the percentage of vehicles electrified.\n",
        "\n",
        "- **EV25_LDB, EV50_LDB, EV100_LDB (2016 only)**:  \n",
        "  These scenarios go a step further, considering the electrification of a wider range of vehicles, including all passenger cars, trucks, light commercial trucks, transit buses, and school buses, not just on-road vehicles. These scenarios only apply to the year 2016 and simulate the impact of electrifying 25%, 50%, and 100% of these vehicles on PM2.5 levels.\n",
        "\n",
        "- **EV100_NOBTW, EV100_NOBW, EV100_NOTW**:  \n",
        "  These are variations of the **EV100** scenario, with specific factors like **biofuels (BW)** and **tire wear (TW)** zeroed out. Each of these simulations isolates the impact of certain emission sources:\n",
        "  - **EV100_NOBTW**: Excludes both biofuels (BW) and tire wear (TW).\n",
        "  - **EV100_NOBW**: Excludes biofuels (BW) but includes tire wear (TW).\n",
        "  - **EV100_NOTW**: Excludes tire wear (TW) but includes biofuels (BW).\n",
        "\n",
        "- **EV100_NOROADDUST**:  \n",
        "  This scenario focuses on **EV100** while eliminating road dust, biofuels, and tire wear. It represents a scenario where all vehicle emissions are removed, except for the electrified vehicle emissions, and provides a cleaner comparison of EV impact.\n",
        "\n",
        "### Summary:\n",
        "The simulations assess how different levels of EV adoption and the inclusion or exclusion of various emission sources (like biofuels, tire wear, road dust) influence the PM2.5 levels in California. The findings show that EV adoption leads to a reduction in PM2.5 levels, with the greatest reductions observed in areas with high vehicle emissions, such as Los Angeles and the Central Valley.\n"
      ],
      "metadata": {
        "id": "SQzbGhTcPFRo"
      }
    },
    {
      "cell_type": "code",
      "source": [
        "!wget https://raw.githubusercontent.com/sg2083/GIS_repo/main/Ev_if_increased.jpg -O myimage1.jpg\n",
        "# Image('myimage.jpg')\n",
        "display(Image(filename='myimage1.jpg', width=700))"
      ],
      "metadata": {
        "id": "rk0J9nPSHws2"
      },
      "execution_count": null,
      "outputs": []
    },
    {
      "cell_type": "code",
      "execution_count": null,
      "metadata": {
        "id": "nuxX16Qm6uEM"
      },
      "outputs": [],
      "source": [
        "def process_normal_vehicle_data(df, year):\n",
        "    # Filter data by year and fuel types\n",
        "    filtered_normal_df = df[(df['Data Year'] == year) &\n",
        "                     (~df['Fuel Type'].isin(['Battery Electric (BEV)', 'Plug-in Hybrid (PHEV)']))]\n",
        "\n",
        "    # Group by county and fuel type and sum the vehicle counts\n",
        "    county_fuel_count = filtered_normal_df.groupby(['County', 'Fuel Type'])['Number of Vehicles'].sum().reset_index()\n",
        "\n",
        "    # Pivot the table for better readability\n",
        "    county_fuel_pivot = county_fuel_count.pivot(index='County', columns='Fuel Type', values='Number of Vehicles').reset_index()\n",
        "\n",
        "    # Fill NaN values with 0\n",
        "    county_fuel_pivot = county_fuel_pivot.fillna(0)\n",
        "\n",
        "    return county_fuel_pivot\n",
        "\n",
        "county_normal_vehicles_data_2023 = process_normal_vehicle_data(vehicle_pop, 2023)\n",
        "county_normal_vehicles_data_2010 = process_normal_vehicle_data(vehicle_pop, 2010)\n",
        "county_normal_vehicles_data_2017 = process_normal_vehicle_data(vehicle_pop, 2017)"
      ]
    },
    {
      "cell_type": "code",
      "execution_count": null,
      "metadata": {
        "id": "8YbErI7W67Mf"
      },
      "outputs": [],
      "source": [
        "county_normal_vehicles_data_2023['Total_Normal_Vehicles_2023'] = (county_normal_vehicles_data_2023['Diesel'] +\n",
        "                                              county_normal_vehicles_data_2023['Flex Fuel'] + county_normal_vehicles_data_2023['Gasoline'] + county_normal_vehicles_data_2023['Gasoline Hybrid'] + county_normal_vehicles_data_2023['Natural Gas'])\n",
        "\n",
        "county_normal_vehicles_data_2010['Total_Normal_Vehicles_2010'] = (county_normal_vehicles_data_2010['Diesel'] +\n",
        "                                              county_normal_vehicles_data_2010['Flex Fuel'] + county_normal_vehicles_data_2010['Gasoline'] + county_normal_vehicles_data_2010['Gasoline Hybrid'] + county_normal_vehicles_data_2010['Natural Gas'])\n",
        "\n",
        "county_normal_vehicles_data_2017['Total_Normal_Vehicles_2017'] = (county_normal_vehicles_data_2017['Diesel'] +\n",
        "                                              county_normal_vehicles_data_2017['Flex Fuel'] + county_normal_vehicles_data_2017['Gasoline'] + county_normal_vehicles_data_2017['Gasoline Hybrid'] + county_normal_vehicles_data_2017['Natural Gas'])\n",
        "\n",
        "county_normal_fuel_combined = county_normal_vehicles_data_2023[['County', 'Total_Normal_Vehicles_2023']].merge(\n",
        "    county_normal_vehicles_data_2010[['County', 'Total_Normal_Vehicles_2010']], on='County', how='left').merge(\n",
        "    county_normal_vehicles_data_2017[['County', 'Total_Normal_Vehicles_2017']], on='County', how='left')\n",
        "\n",
        "# Replace any remaining NaN values with 0\n",
        "county_normal_fuel_combined = county_normal_fuel_combined.fillna(0)\n",
        "\n",
        "# Convert only numeric columns to integers, excluding 'County'\n",
        "normal_numeric_columns = county_normal_fuel_combined.select_dtypes(include=['float', 'int']).columns\n",
        "county_normal_fuel_combined[normal_numeric_columns] = county_normal_fuel_combined[normal_numeric_columns].astype(int)\n",
        "\n",
        "# Print the result\n",
        "county_normal_fuel_combined[['Total_Normal_Vehicles_2010', 'Total_Normal_Vehicles_2017', 'Total_Normal_Vehicles_2023']].head(3)"
      ]
    },
    {
      "cell_type": "code",
      "execution_count": null,
      "metadata": {
        "id": "VI0tw94LTz0K"
      },
      "outputs": [],
      "source": [
        "# Assuming `merged_ev_data` and `county_normal_fuel_combined` are already defined\n",
        "# Merge the EV and normal vehicle data based on County\n",
        "combined_vehicle_data = merged_ev_data.merge(\n",
        "    county_normal_fuel_combined,\n",
        "    left_on='County',\n",
        "    right_on='County',\n",
        "    how='left'\n",
        ")\n",
        "\n",
        "# Replace any remaining NaN values with 0 in the merged data\n",
        "combined_vehicle_data = combined_vehicle_data.fillna(0)\n",
        "\n",
        "# Convert any numeric columns in the normal vehicle data to integers, excluding 'County'\n",
        "numeric_columns = combined_vehicle_data.select_dtypes(include=['float', 'int']).columns\n",
        "combined_vehicle_data[numeric_columns] = combined_vehicle_data[numeric_columns].astype(int)\n",
        "\n",
        "combined_vehicle_data['Total_Vehicles_2010'] = combined_vehicle_data['Total_EV_Vehicles_2010'] + combined_vehicle_data['Total_Normal_Vehicles_2010']\n",
        "combined_vehicle_data['Total_Vehicles_2017'] = combined_vehicle_data['Total_EV_Vehicles_2017'] + combined_vehicle_data['Total_Normal_Vehicles_2017']\n",
        "combined_vehicle_data['Total_Vehicles_2023'] = combined_vehicle_data['Total_EV_Vehicles_2023'] + combined_vehicle_data['Total_Normal_Vehicles_2023']\n",
        "\n",
        "print(combined_vehicle_data.head(2))"
      ]
    },
    {
      "cell_type": "code",
      "execution_count": null,
      "metadata": {
        "id": "T2Ft-w7bXzmB"
      },
      "outputs": [],
      "source": [
        "combined_vehicle_data['County'] = combined_vehicle_data['County'].str.upper().str.strip()\n",
        "CAl['NAME'] = CAl['NAME'].str.upper().str.strip()\n",
        "\n",
        "combined_gdf = CAl[['NAME', 'geometry']].merge(\n",
        "    combined_vehicle_data, left_on='NAME', right_on='County', how='inner'\n",
        ")\n",
        "\n",
        "# Convert the result to a GeoDataFrame if it isn’t already\n",
        "combined_gdf = gpd.GeoDataFrame(combined_gdf, geometry='geometry')\n",
        "\n",
        "# Display a sample of the combined data to verify\n",
        "print(combined_gdf.head(1))\n"
      ]
    },
    {
      "cell_type": "code",
      "execution_count": null,
      "metadata": {
        "id": "dqdynltzKEeV"
      },
      "outputs": [],
      "source": [
        "\n",
        "!wget -q -O elections_2022.xlsx https://github.com/sg2083/GIS_repo/raw/main/senate_2022.xlsx\n",
        "\n",
        "elections_2022 = pd.read_excel('elections_2022.xlsx')\n",
        "# Step 1: Filter for California state only\n",
        "california_data = elections_2022[elections_2022['state'] == \"CALIFORNIA\"]\n",
        "\n",
        "# Step 2: Separate Democrat and Republican votes, using pivot for easier comparison\n",
        "# First, keep only necessary columns to simplify the data\n",
        "ca_votes = california_data[[\"county_name\", \"candidate\", \"party_simplified\", \"candidatevotes\"]]\n",
        "\n",
        "# Pivot table to get votes by party per county\n",
        "ca_pivot = ca_votes.pivot_table(\n",
        "    index=\"county_name\",\n",
        "    columns=\"party_simplified\",\n",
        "    values=\"candidatevotes\",\n",
        "    aggfunc=\"sum\"\n",
        ").reset_index()\n",
        "\n",
        "# Step 3: Calculate the winner and vote margin\n",
        "# Define function to determine the winner and margin\n",
        "def determine_winner(row):\n",
        "    if row['DEMOCRAT'] > row['REPUBLICAN']:\n",
        "        return \"DEMOCRAT\", row['DEMOCRAT'] - row['REPUBLICAN']\n",
        "    elif row['REPUBLICAN'] > row['DEMOCRAT']:\n",
        "        return \"REPUBLICAN\", row['REPUBLICAN'] - row['DEMOCRAT']\n",
        "    else:\n",
        "        return \"TIE\", 0\n",
        "\n",
        "# Apply function to calculate winner and margin\n",
        "ca_pivot[['Winner', 'Margin']] = ca_pivot.apply(lambda row: pd.Series(determine_winner(row)), axis=1)\n",
        "\n",
        "# Step 4: Finalize the Data - keeping only required columns\n",
        "final_results = ca_pivot[[\"county_name\", \"Winner\", \"Margin\"]]\n",
        "\n",
        "# Display the final DataFrame\n",
        "print(final_results.head(5))"
      ]
    },
    {
      "cell_type": "code",
      "execution_count": null,
      "metadata": {
        "id": "lDxKi6yjJo21"
      },
      "outputs": [],
      "source": [
        "# Merge shapefile with election results data\n",
        "# We assume county_name in final_results matches the county names in the shapefile\n",
        "CAl['NAME'] = CAl['NAME'].str.upper()\n",
        "map_data = CAl.merge(final_results, left_on=\"NAME\", right_on=\"county_name\")\n",
        "\n",
        "# Define color mapping based on the 'Winner' column\n",
        "color_map = {\"DEMOCRAT\": \"#0078d4\",  # Light blue\n",
        "             \"REPUBLICAN\": \"#d13438\"}  # Light red (salmon)\n",
        "map_data['color'] = map_data['Winner'].map(color_map)\n"
      ]
    },
    {
      "cell_type": "code",
      "execution_count": null,
      "metadata": {
        "id": "RWcxPxzLpWfP"
      },
      "outputs": [],
      "source": [
        "# m = folium.Map(location=[37.45, -119.4179], zoom_start=5.5, tiles=None,\n",
        "#                zoom_control=False, scrollWheelZoom=False, dragging=False, doubleClickZoom=False)\n",
        "\n",
        "# # Add GeoJson layer with style and popup for each county\n",
        "# folium.GeoJson(\n",
        "#     map_data,\n",
        "#     style_function=lambda feature: {\n",
        "#         'fillColor': feature['properties']['color'],\n",
        "#         'color': 'white',\n",
        "#         'weight': 0.5,\n",
        "#         'fillOpacity': 0.9,\n",
        "#     },\n",
        "#     tooltip=folium.GeoJsonTooltip(\n",
        "#         fields=['county_name', 'Winner', 'Margin'],\n",
        "#         aliases=[\"County:\", \"Winner:\", \"Margin:\"],\n",
        "#         localize=True\n",
        "#     ),\n",
        "#     popup=None,\n",
        "#     highlight_function=None\n",
        "# ).add_to(m)\n",
        "\n",
        "# # Display the map\n",
        "# m\n",
        "# map_data.columns"
      ]
    },
    {
      "cell_type": "code",
      "execution_count": null,
      "metadata": {
        "id": "JHPDryCsIIVr"
      },
      "outputs": [],
      "source": [
        "# Normalize color gradient for percentage range\n",
        "def get_color_for_percentage(percentage, color_map):\n",
        "    # Normalize the value to fall within 0 to 1 for color mapping\n",
        "    norm = mcolors.Normalize(vmin=0, vmax=100)\n",
        "    colormap = plt.cm.get_cmap(color_map)  # Choose color map for each percentage\n",
        "    color = colormap(norm(percentage))  # Get RGBA color\n",
        "    return mcolors.to_hex(color)  # Convert RGBA to hex for folium\n",
        "\n",
        "# Calculate EV and Normal Vehicle Percentages if not done already\n",
        "combined_gdf['EV_Percentage_2017'] = (combined_gdf['Total_EV_Vehicles_2017'] / combined_gdf['Total_Vehicles_2017']) * 100\n",
        "combined_gdf['Normal_Percentage_2017'] = (combined_gdf['Total_Normal_Vehicles_2017'] / combined_gdf['Total_Vehicles_2017']) * 100\n",
        "combined_gdf['NAME'] = combined_gdf['NAME'].str.upper().str.strip()\n",
        "map_data['NAME'] = map_data['NAME'].str.upper().str.strip()\n",
        "\n",
        "# Merge combined_gdf with map_data to bring in EV and Normal Vehicle Percentages\n",
        "map_data = map_data.merge(\n",
        "    combined_gdf[['NAME', 'EV_Percentage_2017', 'Normal_Percentage_2017', 'Site Latitude', 'Site Longitude']],\n",
        "    left_on='NAME', right_on='NAME',\n",
        "    how='inner',\n",
        ")\n",
        "\n",
        "# Define color mapping based on the 'Winner' column\n",
        "color_map = {\"DEMOCRAT\": \"#0078d4\",  # Light blue\n",
        "             \"REPUBLICAN\": \"#d13438\"}  # Light red (salmon)\n",
        "map_data['color'] = map_data['Winner'].map(color_map)\n",
        "\n"
      ]
    },
    {
      "cell_type": "code",
      "execution_count": null,
      "metadata": {
        "id": "Czocn_yqeOjV"
      },
      "outputs": [],
      "source": [
        "\n",
        "map_data.columns\n",
        "# Normalize color gradient for percentage range\n",
        "def get_color_for_percentage(percentage, color_map):\n",
        "    # Normalize the value to fall within 0 to 1 for color mapping\n",
        "    norm = mcolors.Normalize(vmin=0, vmax=100)\n",
        "    colormap = plt.cm.get_cmap(color_map)  # Choose color map for each percentage\n",
        "    color = colormap(norm(percentage))  # Get RGBA color\n",
        "    return mcolors.to_hex(color)  # Convert RGBA to hex for folium\n",
        "# Calculate EV and Normal Vehicle Percentages if not done already\n",
        "combined_gdf['EV_Percentage'] = (combined_gdf['Total_EV_Vehicles_2023'] / combined_gdf['Total_Vehicles_2023']) * 100\n",
        "combined_gdf['Normal_Percentage'] = (combined_gdf['Total_Normal_Vehicles_2023'] / combined_gdf['Total_Vehicles_2023']) * 100\n",
        "combined_gdf['NAME'] = combined_gdf['NAME'].str.upper().str.strip()\n",
        "combined_gdf['Increased_Percentage_since_2017_EV'] = ((combined_gdf['Total_EV_Vehicles_2023']-combined_gdf['Total_EV_Vehicles_2017'] ) / combined_gdf['Total_Vehicles_2023']) * 100\n",
        "map_data['NAME'] = map_data['NAME'].str.upper().str.strip()\n",
        "\n",
        "# Merge combined_gdf with map_data to bring in EV and Normal Vehicle Percentages\n",
        "map_data = map_data.merge(\n",
        "    combined_gdf[['NAME', 'EV_Percentage', 'Normal_Percentage','Increased_Percentage_since_2017_EV']],\n",
        "    left_on='NAME', right_on='NAME',\n",
        "    how='inner',\n",
        ")\n",
        "\n",
        "# Define color mapping based on the 'Winner' column\n",
        "color_map = {\"DEMOCRAT\": \"#0078d4\",  # Light blue\n",
        "             \"REPUBLICAN\": \"#d13438\"}  # Light red (salmon)\n",
        "map_data['color'] = map_data['Winner'].map(color_map)\n",
        "\n",
        "# Create a folium map\n",
        "m = folium.Map(location=[37.45, -119.4179], zoom_start=5.5, tiles=\"cartodb positron\")\n",
        "\n",
        "# Add GeoJson layer with color for each county based on the 'Winner' column\n",
        "folium.GeoJson(\n",
        "    map_data,\n",
        "    style_function=lambda feature: {\n",
        "        'fillColor': feature['properties']['color'],\n",
        "        'color': 'white',\n",
        "        'weight': 0.3,\n",
        "        'fillOpacity': 0.9,\n",
        "    },\n",
        "    # tooltip=folium.GeoJsonTooltip(\n",
        "    #     fields=['county_name', 'Winner', 'Margin', 'EV_Percentage', 'Normal_Percentage'],\n",
        "    #     aliases=[\"County:\", \"Winner:\", \"Margin:\", \"EV %:\", \"Normal %:\"],\n",
        "    #     localize=True,\n",
        "    #     sticky=True,\n",
        "    # ),\n",
        ").add_to(m)\n",
        "\n",
        "# Add concentric CircleMarkers for each county based on EV and Normal vehicle percentages\n",
        "for _, row in map_data.iterrows():\n",
        "    location = [row['Site Latitude'], row['Site Longitude']]\n",
        "    ev_percentage = row['EV_Percentage']\n",
        "    normal_percentage = row['Normal_Percentage']\n",
        "\n",
        "    # Get colors for each percentage\n",
        "    ev_color = get_color_for_percentage(ev_percentage, \"Greens\")  # Green shades for EV\n",
        "    normal_color = get_color_for_percentage(normal_percentage, \"Reds\")  # Red shades for Normal\n",
        "\n",
        "    # Outer circle for EV Percentage\n",
        "    folium.CircleMarker(\n",
        "        location=location,\n",
        "        radius=10,  # Slightly larger radius for EV\n",
        "        color=ev_color,\n",
        "        fill=True,\n",
        "        fill_color=ev_color,\n",
        "        fill_opacity=0.6,\n",
        "        tooltip=(\n",
        "            f\"<b>County:</b> {row['county_name']}<br>\"\n",
        "            f\"<b>Winner:</b> {row['Winner']}<br>\"\n",
        "            f\"<b>Margin:</b> {row['Margin']}%<br>\"\n",
        "            f\"<b>EV Percentage:</b> {ev_percentage:.2f}%<br>\"\n",
        "            f\"<b>Normal Percentage:</b> {normal_percentage:.2f}%<br>\"\n",
        "            f\"<b>EV increase since 2017:</b>{row['Increased_Percentage_since_2017_EV']:.2f}%\"\n",
        "        ),\n",
        "    ).add_to(m)\n",
        "\n",
        "    # Inner circle for Normal Percentage\n",
        "    folium.CircleMarker(\n",
        "        location=location,\n",
        "        radius=4,  # Smaller radius for Normal\n",
        "        color=normal_color,\n",
        "        fill=True,\n",
        "        fill_color=normal_color,\n",
        "        fill_opacity=0.9,\n",
        "    ).add_to(m)\n",
        "\n",
        "# Display the map\n",
        "m\n"
      ]
    }
  ],
  "metadata": {
    "colab": {
      "provenance": [],
      "include_colab_link": true
    },
    "kernelspec": {
      "display_name": "Python 3",
      "name": "python3"
    },
    "language_info": {
      "name": "python"
    }
  },
  "nbformat": 4,
  "nbformat_minor": 0
}